{
 "cells": [
  {
   "cell_type": "code",
   "execution_count": null,
   "metadata": {},
   "outputs": [],
   "source": [
    "# import librarys\n",
    "from Bio import Entrez"
   ]
  },
  {
   "cell_type": "code",
   "execution_count": 25,
   "metadata": {},
   "outputs": [
    {
     "name": "stdout",
     "output_type": "stream",
     "text": [
      "incorrect spell is \"regenerativemedicine\" and correct spell is \"regenerative medicine\" and searched in pubmed db\"\n"
     ]
    }
   ],
   "source": [
    "# check spell of key word\n",
    "try:\n",
    "    Entrez.email = \"seyedmilad.hashemichepi@gmail.com\" # You should always tell NCBI who you are.\n",
    "    handle = Entrez.espell(term=\"regenerativemedicine\",db=\"pubmed\") # search term\n",
    "    record = Entrez.read(handle)\n",
    "except: # handle errors\n",
    "    raise ValueError(\"Please check your internet connection or the URL you are trying to access.\")\n",
    "finally: # close the handle\n",
    "    handle.close()\n",
    "# print the result\n",
    "print(f'incorrect spell is \"{record[\"Query\"]}\" and correct spell is \"{record[\"CorrectedQuery\"]}\" and searched in {record[\"Database\"]} db\"')"
   ]
  }
 ],
 "metadata": {
  "kernelspec": {
   "display_name": "venv",
   "language": "python",
   "name": "python3"
  },
  "language_info": {
   "codemirror_mode": {
    "name": "ipython",
    "version": 3
   },
   "file_extension": ".py",
   "mimetype": "text/x-python",
   "name": "python",
   "nbconvert_exporter": "python",
   "pygments_lexer": "ipython3",
   "version": "3.13.1"
  }
 },
 "nbformat": 4,
 "nbformat_minor": 2
}
