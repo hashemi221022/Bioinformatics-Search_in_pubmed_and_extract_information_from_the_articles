{
 "cells": [
  {
   "cell_type": "code",
   "execution_count": 2,
   "metadata": {},
   "outputs": [],
   "source": [
    "# import librarys\n",
    "from Bio import Entrez"
   ]
  },
  {
   "cell_type": "code",
   "execution_count": 3,
   "metadata": {},
   "outputs": [
    {
     "name": "stdout",
     "output_type": "stream",
     "text": [
      "incorrect spell is \"regenerativemedicine\" and correct spell is \"regenerative medicine\" and searched in pubmed db\"\n"
     ]
    }
   ],
   "source": [
    "# check spell of key word\n",
    "try:\n",
    "    Entrez.email = \"seyedmilad.hashemichepi@gmail.com\" # You should always tell NCBI who you are.\n",
    "    handle = Entrez.espell(term=\"regenerativemedicine\",db=\"pubmed\") # search term\n",
    "    record = Entrez.read(handle)\n",
    "except: # handle errors\n",
    "    raise ValueError(\"Please check your internet connection or the URL you are trying to access.\")\n",
    "finally: # close the handle\n",
    "    handle.close()\n",
    "# print the result\n",
    "print(f'incorrect spell is \"{record[\"Query\"]}\" and correct spell is \"{record[\"CorrectedQuery\"]}\" and searched in {record[\"Database\"]} db\"')"
   ]
  },
  {
   "cell_type": "code",
   "execution_count": 5,
   "metadata": {},
   "outputs": [
    {
     "name": "stdout",
     "output_type": "stream",
     "text": [
      "Count : 126351\n",
      "RetMax : 50\n",
      "RetStart : 0\n",
      "IdList : ['40188342', '40188257', '40188125', '40188103', '40188073', '40188044', '40188009', '40187755', '40187726', '40187705', '40187695', '40187662', '40187541', '40187007', '40187000', '40186978', '40186712', '40186708', '40186592', '40186514', '40186482', '40185900', '40185667', '40185400', '40185384', '40185332', '40185316', '40185180', '40185155', '40185099', '40185072', '40185071', '40185070', '40185067', '40184909', '40184840', '40184758', '40184605', '40184452', '40184333', '40184223', '40184014', '40183936', '40183834', '40183806', '40183704', '40183437', '40183391', '40183375', '40183374']\n",
      "TranslationSet : [{'From': 'regenerative medicine', 'To': '\"regenerative medicine\"[MeSH Terms] OR (\"regenerative\"[All Fields] AND \"medicine\"[All Fields]) OR \"regenerative medicine\"[All Fields]'}]\n",
      "QueryTranslation : \"regenerative medicine\"[MeSH Terms] OR (\"regenerative\"[All Fields] AND \"medicine\"[All Fields]) OR \"regenerative medicine\"[All Fields]\n"
     ]
    }
   ],
   "source": [
    "# Search in data base\n",
    "Entrez.email = \"seyedmilad.hashemichepi@gmail.com\" # You should say how you are.\n",
    "handle = Entrez.esearch(db=\"pubmed\", term=\"regenerative medicine\", retmax=50) # Search in the nucleotode database for a specific Gene. \n",
    "result = Entrez.read(handle) # Read.\n",
    "handle.close() # After giving a result you should close that.\n",
    "# Printing all info\n",
    "for key,value in result.items():\n",
    "    print(key,\":\" ,value)\n"
   ]
  }
 ],
 "metadata": {
  "kernelspec": {
   "display_name": "venv",
   "language": "python",
   "name": "python3"
  },
  "language_info": {
   "codemirror_mode": {
    "name": "ipython",
    "version": 3
   },
   "file_extension": ".py",
   "mimetype": "text/x-python",
   "name": "python",
   "nbconvert_exporter": "python",
   "pygments_lexer": "ipython3",
   "version": "3.13.1"
  }
 },
 "nbformat": 4,
 "nbformat_minor": 2
}
